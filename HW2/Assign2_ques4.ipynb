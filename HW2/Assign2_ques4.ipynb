{
 "cells": [
  {
   "cell_type": "code",
   "execution_count": 1,
   "metadata": {},
   "outputs": [],
   "source": [
    "def step(state, action):\n",
    "    if state == A:\n",
    "        return A1, 10\n",
    "    if state == B:\n",
    "        return B1, 5\n",
    "    state = np.array(state)\n",
    "    new_state = (state+action).tolist()\n",
    "    x, y = new_state\n",
    "    if x < 0 or x >= gridsize or y < 0 or y >= gridsize:\n",
    "        reward = -1.0\n",
    "        new_state = state\n",
    "    else:\n",
    "        reward = 0\n",
    "    return new_state, reward\n"
   ]
  },
  {
   "cell_type": "code",
   "execution_count": 2,
   "metadata": {},
   "outputs": [],
   "source": [
    "def OptimalPolicy(state, action , v):\n",
    "    if state == A:\n",
    "        x,y = A1\n",
    "        value = v[x,y]\n",
    "        return value\n",
    "    if state == B:\n",
    "        x,y = B1\n",
    "        value = v[x,y]\n",
    "        return value\n",
    "    state = np.array(state)\n",
    "    next_state = (state+action).tolist()\n",
    "    x, y = next_state\n",
    "    if x < 0 or x >= gridsize or y < 0 or y >= gridsize:\n",
    "        value = 0\n",
    "        next_state = state\n",
    "    else:\n",
    "        value = v[x,y]\n",
    "    return  value\n"
   ]
  },
  {
   "cell_type": "code",
   "execution_count": 3,
   "metadata": {},
   "outputs": [
    {
     "name": "stdout",
     "output_type": "stream",
     "text": [
      "[[21.97744338 24.41938153 21.97744338 19.41938153 17.47744338]\n",
      " [19.77969904 21.97744338 19.77969904 17.8017056  16.02153504]\n",
      " [17.8017056  19.77969904 17.8017056  16.02153504 14.41938153]\n",
      " [16.02153504 17.8017056  16.02153504 14.41938153 12.97744338]\n",
      " [14.41938153 16.02153504 14.41938153 12.97744338 11.67969904]]\n"
     ]
    }
   ],
   "source": [
    "import numpy as np\n",
    "gridsize = 5\n",
    "A = [0,1]\n",
    "B = [0,3]\n",
    "A1 = [4,1]\n",
    "B1 = [2,3]\n",
    "discount = 0.9\n",
    "v= np.zeros((gridsize, gridsize))\n",
    "actions=[[0,-1],[-1,0],[0,1],[1,0]]\n",
    "prob = 0.25 # probability of taking particular action\n",
    "v= np.zeros((gridsize, gridsize))\n",
    "while True:\n",
    "    v1 = np.zeros(v.shape)\n",
    "    for i in range(0,gridsize):\n",
    "        for j in range(0,gridsize):\n",
    "            temp = []\n",
    "            for a in actions:\n",
    "                (p,q),reward = step([i,j],a)\n",
    "                temp.append(reward + discount*v[p,q])\n",
    "            v1[i,j] = np.max(temp)\n",
    "    if np.sum(np.abs(v - v1)) < 1e-4:\n",
    "        break\n",
    "    v = v1\n",
    "    \n",
    "print(v)"
   ]
  },
  {
   "cell_type": "code",
   "execution_count": 4,
   "metadata": {},
   "outputs": [
    {
     "name": "stdout",
     "output_type": "stream",
     "text": [
      "[0, 0, 24.41938153311321, 19.7796990418217]\n",
      "Optimal Policy for State: (0, 0) --- [2]\n",
      "[16.021535036792454, 16.021535036792454, 16.021535036792454, 16.021535036792454]\n",
      "Optimal Policy for State: (0, 1) --- [0, 1, 2, 3]\n",
      "[24.41938153311321, 0, 19.41938153311321, 19.7796990418217]\n",
      "Optimal Policy for State: (0, 2) --- [0]\n",
      "[16.021535036792454, 16.021535036792454, 16.021535036792454, 16.021535036792454]\n",
      "Optimal Policy for State: (0, 3) --- [0, 1, 2, 3]\n",
      "[19.41938153311321, 0, 0, 16.021535036792454]\n",
      "Optimal Policy for State: (0, 4) --- [0]\n",
      "[0, 21.97744337980189, 21.97744337980189, 17.80172913763953]\n",
      "Optimal Policy for State: (1, 0) --- [1, 2]\n",
      "[19.7796990418217, 24.41938153311321, 19.7796990418217, 19.7796990418217]\n",
      "Optimal Policy for State: (1, 1) --- [1]\n",
      "[21.97744337980189, 21.97744337980189, 17.80172913763953, 17.80172913763953]\n",
      "Optimal Policy for State: (1, 2) --- [0, 1]\n",
      "[19.7796990418217, 19.41938153311321, 16.021535036792454, 16.021535036792454]\n",
      "Optimal Policy for State: (1, 3) --- [0]\n",
      "[17.80172913763953, 17.47744337980189, 0, 14.419381533113208]\n",
      "Optimal Policy for State: (1, 4) --- [0]\n",
      "[0, 19.7796990418217, 19.7796990418217, 16.021535036792454]\n",
      "Optimal Policy for State: (2, 0) --- [1, 2]\n",
      "[17.80172913763953, 21.97744337980189, 17.80172913763953, 17.80172913763953]\n",
      "Optimal Policy for State: (2, 1) --- [1]\n",
      "[19.7796990418217, 19.7796990418217, 16.021535036792454, 16.021535036792454]\n",
      "Optimal Policy for State: (2, 2) --- [0, 1]\n",
      "[17.80172913763953, 17.80172913763953, 14.419381533113208, 14.419381533113208]\n",
      "Optimal Policy for State: (2, 3) --- [0, 1]\n",
      "[16.021535036792454, 16.021535036792454, 0, 12.977443379801887]\n",
      "Optimal Policy for State: (2, 4) --- [0, 1]\n",
      "[0, 17.80172913763953, 17.80172913763953, 14.419381533113208]\n",
      "Optimal Policy for State: (3, 0) --- [1, 2]\n",
      "[16.021535036792454, 19.7796990418217, 16.021535036792454, 16.021535036792454]\n",
      "Optimal Policy for State: (3, 1) --- [1]\n",
      "[17.80172913763953, 17.80172913763953, 14.419381533113208, 14.419381533113208]\n",
      "Optimal Policy for State: (3, 2) --- [0, 1]\n",
      "[16.021535036792454, 16.021535036792454, 12.977443379801887, 12.977443379801887]\n",
      "Optimal Policy for State: (3, 3) --- [0, 1]\n",
      "[14.419381533113208, 14.419381533113208, 0, 11.6796990418217]\n",
      "Optimal Policy for State: (3, 4) --- [0, 1]\n",
      "[0, 16.021535036792454, 16.021535036792454, 0]\n",
      "Optimal Policy for State: (4, 0) --- [1, 2]\n",
      "[14.419381533113208, 17.80172913763953, 14.419381533113208, 0]\n",
      "Optimal Policy for State: (4, 1) --- [1]\n",
      "[16.021535036792454, 16.021535036792454, 12.977443379801887, 0]\n",
      "Optimal Policy for State: (4, 2) --- [0, 1]\n",
      "[14.419381533113208, 14.419381533113208, 11.6796990418217, 0]\n",
      "Optimal Policy for State: (4, 3) --- [0, 1]\n",
      "[12.977443379801887, 12.977443379801887, 0, 0]\n",
      "Optimal Policy for State: (4, 4) --- [0, 1]\n"
     ]
    }
   ],
   "source": [
    "# 0 means Left , 1 means UP , 2 means RIGHT , 3 means Down  \n",
    "for i in range(0,gridsize):\n",
    "    for j in range(0,gridsize):\n",
    "        temp = []\n",
    "        for a in actions:\n",
    "            value = OptimalPolicy([i,j],a,v1)\n",
    "            temp.append(value)\n",
    "        print((temp))\n",
    "        \n",
    "        z = [p for p, t in enumerate(temp) if t == max(temp)]\n",
    "        \n",
    "        print(\"Optimal Policy for State:\",(i,j),\"---\",z)"
   ]
  },
  {
   "cell_type": "code",
   "execution_count": null,
   "metadata": {},
   "outputs": [],
   "source": []
  }
 ],
 "metadata": {
  "kernelspec": {
   "display_name": "Python 3",
   "language": "python",
   "name": "python3"
  },
  "language_info": {
   "codemirror_mode": {
    "name": "ipython",
    "version": 3
   },
   "file_extension": ".py",
   "mimetype": "text/x-python",
   "name": "python",
   "nbconvert_exporter": "python",
   "pygments_lexer": "ipython3",
   "version": "3.6.7"
  }
 },
 "nbformat": 4,
 "nbformat_minor": 2
}
