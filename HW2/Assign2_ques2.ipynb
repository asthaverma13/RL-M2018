{
 "cells": [
  {
   "cell_type": "code",
   "execution_count": 1,
   "metadata": {},
   "outputs": [],
   "source": [
    "def step(state, action):\n",
    "    if state == A:\n",
    "        return A1, 10\n",
    "    if state == B:\n",
    "        return B1, 5\n",
    "    state = np.array(state)\n",
    "    new_state = (state+action).tolist()\n",
    "    x, y = new_state\n",
    "    if x < 0 or x >= gridsize or y < 0 or y >= gridsize: # condition for checking edges \n",
    "        reward = -1.0\n",
    "        new_state = state\n",
    "    else:\n",
    "        reward = 0\n",
    "    return new_state, reward"
   ]
  },
  {
   "cell_type": "code",
   "execution_count": 2,
   "metadata": {},
   "outputs": [
    {
     "name": "stdout",
     "output_type": "stream",
     "text": [
      "[[ 3.30903373  8.78932925  4.42765654  5.32240493  1.49221608]\n",
      " [ 1.52162547  2.99235524  2.25017731  1.90760904  0.54744003]\n",
      " [ 0.05085989  0.73820797  0.67315062  0.35822355 -0.40310382]\n",
      " [-0.97355491 -0.43545805 -0.35484491 -0.58556775 -1.18303775]\n",
      " [-1.85766316 -1.34519388 -1.2292299  -1.42288081 -1.97514172]]\n"
     ]
    }
   ],
   "source": [
    "import numpy as np\n",
    "gridsize = 5\n",
    "A = [0,1]\n",
    "B = [0,3]\n",
    "A1 = [4,1]\n",
    "B1 = [2,3]\n",
    "discount = 0.9\n",
    "s = [[0,1,2,3,4],[5,6,7,8,9],[10,11,12,13,14],[15,16,17,18,19],[20,21,22,23,24]]\n",
    "s = np.array(s)\n",
    "v= np.zeros((gridsize, gridsize))\n",
    "actions=[[0,-1],[-1,0],[0,1],[1,0]]\n",
    "prob = 0.25 # probability of taking particular action\n",
    "while True:\n",
    "    v1 = np.zeros(v.shape)\n",
    "    for i in range(0,gridsize):\n",
    "        for j in range(0,gridsize):\n",
    "            for a in actions:\n",
    "                (p,q),reward = step([i,j],a)\n",
    "                v1[i,j] += prob*(reward + discount*v[p,q]) # compute Equation for each state. \n",
    "    if np.sum(np.abs(v - v1)) < 1e-4:\n",
    "        break\n",
    "    v = v1\n",
    "    \n",
    "print(v)"
   ]
  }
 ],
 "metadata": {
  "kernelspec": {
   "display_name": "Python 3",
   "language": "python",
   "name": "python3"
  },
  "language_info": {
   "codemirror_mode": {
    "name": "ipython",
    "version": 3
   },
   "file_extension": ".py",
   "mimetype": "text/x-python",
   "name": "python",
   "nbconvert_exporter": "python",
   "pygments_lexer": "ipython3",
   "version": "3.6.7"
  }
 },
 "nbformat": 4,
 "nbformat_minor": 2
}
